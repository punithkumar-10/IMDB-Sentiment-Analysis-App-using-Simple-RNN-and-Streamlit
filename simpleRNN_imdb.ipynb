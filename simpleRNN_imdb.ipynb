{
  "nbformat": 4,
  "nbformat_minor": 0,
  "metadata": {
    "colab": {
      "provenance": [],
      "gpuType": "T4"
    },
    "kernelspec": {
      "name": "python3",
      "display_name": "Python 3"
    },
    "language_info": {
      "name": "python"
    },
    "accelerator": "GPU"
  },
  "cells": [
    {
      "cell_type": "markdown",
      "source": [
        "# IMDb sentiment analysis using simple RNN"
      ],
      "metadata": {
        "id": "nAabXNP5O3kF"
      }
    },
    {
      "cell_type": "code",
      "execution_count": null,
      "metadata": {
        "id": "6rKOVMtJbBzF"
      },
      "outputs": [],
      "source": [
        "!pip install numpy\n",
        "!pip install tensorflow\n",
        "!pip install keras"
      ]
    },
    {
      "cell_type": "code",
      "source": [
        "import numpy as np\n",
        "import tensorflow as tf\n",
        "from tensorflow.keras.datasets import imdb\n",
        "from tensorflow.keras.models import Sequential\n",
        "from tensorflow.keras.layers import Embedding, SimpleRNN, Dense\n",
        "from tensorflow.keras.preprocessing import sequence"
      ],
      "metadata": {
        "id": "lSjClcPUeSrr"
      },
      "execution_count": 4,
      "outputs": []
    },
    {
      "cell_type": "code",
      "source": [
        "#load IMDB data\n",
        "max_features = 10000\n",
        "(X_train,y_train),(X_test,y_test) = imdb.load_data(num_words=max_features)"
      ],
      "metadata": {
        "id": "yG8dzLObe9b_"
      },
      "execution_count": null,
      "outputs": []
    },
    {
      "cell_type": "code",
      "source": [
        "#print sample data\n",
        "sample_review = X_train[0]\n",
        "sample_output = y_train[0]\n",
        "print(f'sample review : {sample_review}')\n",
        "print(f'sample output : {sample_output}')"
      ],
      "metadata": {
        "id": "jDswAUiXetZk"
      },
      "execution_count": null,
      "outputs": []
    },
    {
      "cell_type": "code",
      "source": [
        "word_index = imdb.get_word_index()\n",
        "print(list(word_index.items()))"
      ],
      "metadata": {
        "id": "WOntwcQDfncR"
      },
      "execution_count": null,
      "outputs": []
    },
    {
      "cell_type": "code",
      "source": [
        "reversed_wordindex = {value: key for key, value in word_index.items()}\n",
        "print(reversed_wordindex)"
      ],
      "metadata": {
        "id": "DTDY4b7Dj4IW"
      },
      "execution_count": null,
      "outputs": []
    },
    {
      "cell_type": "code",
      "source": [
        "#to check whether the data is embedded properly\n",
        "decoded_review = ' '.join([reversed_wordindex.get(i-3,'?') for i in sample_review])\n",
        "print(decoded_review)"
      ],
      "metadata": {
        "id": "pqx4NmJc9stq"
      },
      "execution_count": null,
      "outputs": []
    },
    {
      "cell_type": "code",
      "source": [
        "from tensorflow.keras.preprocessing import sequence\n",
        "\n",
        "max_len=500\n",
        "\n",
        "X_train = sequence.pad_sequences(X_train,maxlen=max_len)\n",
        "X_test = sequence.pad_sequences(X_test, maxlen=max_len)\n"
      ],
      "metadata": {
        "id": "gTqGIzv6BEJy"
      },
      "execution_count": 13,
      "outputs": []
    },
    {
      "cell_type": "code",
      "source": [
        "## Train Simple RNN\n",
        "model=Sequential()\n",
        "model.add(Embedding(max_features,128,input_length=max_len)) ## Embedding Layers\n",
        "model.add(SimpleRNN(128,activation='relu'))\n",
        "model.add(Dense(1,activation=\"sigmoid\"))"
      ],
      "metadata": {
        "id": "0fTZ2c7M_3lZ"
      },
      "execution_count": 28,
      "outputs": []
    },
    {
      "cell_type": "code",
      "source": [
        "model.build(input_shape=(None, max_len))\n",
        "model.summary()"
      ],
      "metadata": {
        "id": "A4g7pI7JBe4f"
      },
      "execution_count": null,
      "outputs": []
    },
    {
      "cell_type": "code",
      "source": [
        "model.compile(optimizer='adam',loss='binary_crossentropy',metrics=['accuracy'])"
      ],
      "metadata": {
        "id": "XyfeR8huBgkH"
      },
      "execution_count": 20,
      "outputs": []
    },
    {
      "cell_type": "code",
      "source": [
        "from tensorflow.keras.callbacks import EarlyStopping\n",
        "\n",
        "earlystopping = EarlyStopping(monitor = 'val_loss', patience = 5, restore_best_weights=True)"
      ],
      "metadata": {
        "id": "sNhkqsfMKuVK"
      },
      "execution_count": 22,
      "outputs": []
    },
    {
      "cell_type": "code",
      "source": [
        "history = model.fit(\n",
        "    X_train,y_train, epochs=10, batch_size=32,\n",
        "    validation_data=(X_test,y_test),\n",
        "    callbacks=[earlystopping]\n",
        ")"
      ],
      "metadata": {
        "id": "WAa8YXoaLEFO"
      },
      "execution_count": null,
      "outputs": []
    },
    {
      "cell_type": "code",
      "source": [
        "model.save('simple_rnn_imdb.h5')"
      ],
      "metadata": {
        "collapsed": true,
        "id": "9o9n9n5qOHyY"
      },
      "execution_count": null,
      "outputs": []
    }
  ]
}